{
 "cells": [
  {
   "cell_type": "code",
   "execution_count": null,
   "id": "ceb8cf35-6b10-4a82-8ae8-981dc7df4bd2",
   "metadata": {},
   "outputs": [],
   "source": [
    "Day1 Exercise"
   ]
  },
  {
   "cell_type": "code",
   "execution_count": 17,
   "id": "4aba37b0-2530-415d-a46c-162b4fbf918b",
   "metadata": {},
   "outputs": [
    {
     "name": "stdout",
     "output_type": "stream",
     "text": [
      "hi 5\n",
      "hi 8\n",
      "11\n"
     ]
    }
   ],
   "source": [
    "#Higher-order Function, takes an argument as a function, or returns a function\n",
    "def apply_twice(function, x):\n",
    "    return function(function(x))\n",
    "\n",
    "def add_three(n):\n",
    "    print(\"hi\",n)\n",
    "    return n + 3\n",
    "\n",
    "print(apply_twice(add_three, 5))  # Output: 11\n"
   ]
  },
  {
   "cell_type": "code",
   "execution_count": 1,
   "id": "10a5c192-c9be-4f72-864b-d9eadf88b649",
   "metadata": {},
   "outputs": [
    {
     "name": "stdout",
     "output_type": "stream",
     "text": [
      "Hello, JupyterLab! 🎉\n"
     ]
    }
   ],
   "source": [
    "print(\"Hello, JupyterLab! 🎉\")"
   ]
  },
  {
   "cell_type": "code",
   "execution_count": null,
   "id": "5f19d16a-e957-4cff-9693-f86bbf47ff2a",
   "metadata": {},
   "outputs": [],
   "source": [
    "#Data Loading & Familiarization"
   ]
  },
  {
   "cell_type": "code",
   "execution_count": 11,
   "id": "7abd42ba-581f-4968-bd18-73f3b1b77c4d",
   "metadata": {},
   "outputs": [
    {
     "data": {
      "text/plain": [
       "{'num_rows': 6,\n",
       " 'num_columns': 5,\n",
       " 'column_names': ['Title', 'Genre', 'Director', 'Year', 'Rating'],\n",
       " 'data_types': {'Title': dtype('O'),\n",
       "  'Genre': dtype('O'),\n",
       "  'Director': dtype('O'),\n",
       "  'Year': dtype('int64'),\n",
       "  'Rating': dtype('float64')},\n",
       " 'null_values': {'Title': 0,\n",
       "  'Genre': 0,\n",
       "  'Director': 0,\n",
       "  'Year': 0,\n",
       "  'Rating': 1}}"
      ]
     },
     "execution_count": 11,
     "metadata": {},
     "output_type": "execute_result"
    }
   ],
   "source": [
    "import pandas as pd\n",
    "#load dataset file, df-> dataframe\n",
    "df=pd.read_csv(\"movies_sample.csv\")\n",
    "\n",
    "#Pure function to describe the dataset info\n",
    "def describe_dataset(dataframe):\n",
    "    return {\n",
    "        \"num_rows\": len(dataframe),\n",
    "        \"num_columns\": len(dataframe.columns),\n",
    "        \"column_names\": list(dataframe.columns),\n",
    "        \"data_types\": dataframe.dtypes.to_dict(),\n",
    "        \"null_values\":dataframe.isnull().sum().to_dict()\n",
    "        \n",
    "    }\n",
    "\n",
    "#Run and view description\n",
    "dataset_info = describe_dataset(df);\n",
    "dataset_info"
   ]
  },
  {
   "cell_type": "code",
   "execution_count": null,
   "id": "93078c3a-1cf3-47b1-b773-f94806fd7aad",
   "metadata": {},
   "outputs": [],
   "source": []
  },
  {
   "cell_type": "code",
   "execution_count": null,
   "id": "1002ad67-4bf7-4198-b6de-6696bd59a07d",
   "metadata": {},
   "outputs": [],
   "source": [
    "#Functional Cleaning & Preprocessing"
   ]
  },
  {
   "cell_type": "code",
   "execution_count": 16,
   "id": "a5c8dde1-062b-40e2-822c-a421ef45b6ca",
   "metadata": {},
   "outputs": [
    {
     "data": {
      "text/html": [
       "<div>\n",
       "<style scoped>\n",
       "    .dataframe tbody tr th:only-of-type {\n",
       "        vertical-align: middle;\n",
       "    }\n",
       "\n",
       "    .dataframe tbody tr th {\n",
       "        vertical-align: top;\n",
       "    }\n",
       "\n",
       "    .dataframe thead th {\n",
       "        text-align: right;\n",
       "    }\n",
       "</style>\n",
       "<table border=\"1\" class=\"dataframe\">\n",
       "  <thead>\n",
       "    <tr style=\"text-align: right;\">\n",
       "      <th></th>\n",
       "      <th>Title</th>\n",
       "      <th>Genre</th>\n",
       "      <th>Director</th>\n",
       "      <th>Year</th>\n",
       "      <th>Rating</th>\n",
       "    </tr>\n",
       "  </thead>\n",
       "  <tbody>\n",
       "    <tr>\n",
       "      <th>0</th>\n",
       "      <td>The Matrix</td>\n",
       "      <td>Sci-Fi</td>\n",
       "      <td>Lana Wachowski</td>\n",
       "      <td>1999</td>\n",
       "      <td>8.7</td>\n",
       "    </tr>\n",
       "    <tr>\n",
       "      <th>1</th>\n",
       "      <td>Inception</td>\n",
       "      <td>Sci-Fi</td>\n",
       "      <td>Christopher Nolan</td>\n",
       "      <td>2010</td>\n",
       "      <td>8.8</td>\n",
       "    </tr>\n",
       "    <tr>\n",
       "      <th>2</th>\n",
       "      <td>Parasite</td>\n",
       "      <td>Thriller</td>\n",
       "      <td>Bong Joon-Ho</td>\n",
       "      <td>2019</td>\n",
       "      <td>8.6</td>\n",
       "    </tr>\n",
       "    <tr>\n",
       "      <th>3</th>\n",
       "      <td>The Godfather</td>\n",
       "      <td>Crime</td>\n",
       "      <td>Francis Ford Coppola</td>\n",
       "      <td>1972</td>\n",
       "      <td>9.2</td>\n",
       "    </tr>\n",
       "    <tr>\n",
       "      <th>4</th>\n",
       "      <td>Interstellar</td>\n",
       "      <td>Sci-Fi</td>\n",
       "      <td>Christopher Nolan</td>\n",
       "      <td>2014</td>\n",
       "      <td>8.6</td>\n",
       "    </tr>\n",
       "  </tbody>\n",
       "</table>\n",
       "</div>"
      ],
      "text/plain": [
       "           Title     Genre              Director  Year  Rating\n",
       "0     The Matrix    Sci-Fi        Lana Wachowski  1999     8.7\n",
       "1      Inception    Sci-Fi     Christopher Nolan  2010     8.8\n",
       "2       Parasite  Thriller          Bong Joon-Ho  2019     8.6\n",
       "3  The Godfather     Crime  Francis Ford Coppola  1972     9.2\n",
       "4   Interstellar    Sci-Fi     Christopher Nolan  2014     8.6"
      ]
     },
     "execution_count": 16,
     "metadata": {},
     "output_type": "execute_result"
    }
   ],
   "source": [
    "# Example: filter out rows with missing values in any column\n",
    "cleaned_df = df[df.notnull().all(axis=1)]\n",
    "\n",
    "# Using map() to strip whitespace from a string column (example: 'Director')\n",
    "def clean_column(col):\n",
    "    return list(map(lambda x: x.strip().title() if isinstance(x, str) else x, col))\n",
    "\n",
    "# Create a cleaned copy with transformation applied\n",
    "df_cleaned = cleaned_df.copy()\n",
    "df_cleaned[\"Director\"] = clean_column(df_cleaned[\"Director\"])\n",
    "df_cleaned\n"
   ]
  },
  {
   "cell_type": "code",
   "execution_count": null,
   "id": "6ff23798-d6e1-440c-b93c-86231766e476",
   "metadata": {},
   "outputs": [],
   "source": []
  }
 ],
 "metadata": {
  "kernelspec": {
   "display_name": "Python 3 (ipykernel)",
   "language": "python",
   "name": "python3"
  },
  "language_info": {
   "codemirror_mode": {
    "name": "ipython",
    "version": 3
   },
   "file_extension": ".py",
   "mimetype": "text/x-python",
   "name": "python",
   "nbconvert_exporter": "python",
   "pygments_lexer": "ipython3",
   "version": "3.10.12"
  }
 },
 "nbformat": 4,
 "nbformat_minor": 5
}
